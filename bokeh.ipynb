{
 "cells": [
  {
   "cell_type": "code",
   "execution_count": 2,
   "metadata": {},
   "outputs": [
    {
     "name": "stdout",
     "output_type": "stream",
     "text": [
      "Defaulting to user installation because normal site-packages is not writeable\n",
      "Requirement already satisfied: bokeh in c:\\programdata\\anaconda3\\lib\\site-packages (2.4.3)\n",
      "Requirement already satisfied: Jinja2>=2.9 in c:\\users\\yeahs\\appdata\\roaming\\python\\python39\\site-packages (from bokeh) (3.1.2)\n",
      "Requirement already satisfied: numpy>=1.11.3 in c:\\users\\yeahs\\appdata\\roaming\\python\\python39\\site-packages (from bokeh) (1.22.0)\n",
      "Requirement already satisfied: PyYAML>=3.10 in c:\\programdata\\anaconda3\\lib\\site-packages (from bokeh) (6.0)\n",
      "Requirement already satisfied: packaging>=16.8 in c:\\programdata\\anaconda3\\lib\\site-packages (from bokeh) (21.3)\n",
      "Requirement already satisfied: typing-extensions>=3.10.0 in c:\\users\\yeahs\\appdata\\roaming\\python\\python39\\site-packages (from bokeh) (4.9.0)\n",
      "Requirement already satisfied: pillow>=7.1.0 in c:\\programdata\\anaconda3\\lib\\site-packages (from bokeh) (9.2.0)\n",
      "Requirement already satisfied: tornado>=5.1 in c:\\programdata\\anaconda3\\lib\\site-packages (from bokeh) (6.1)\n",
      "Requirement already satisfied: MarkupSafe>=2.0 in c:\\programdata\\anaconda3\\lib\\site-packages (from Jinja2>=2.9->bokeh) (2.0.1)\n",
      "Requirement already satisfied: pyparsing!=3.0.5,>=2.0.2 in c:\\programdata\\anaconda3\\lib\\site-packages (from packaging>=16.8->bokeh) (3.0.9)\n"
     ]
    }
   ],
   "source": [
    "# Import libraries\n",
    "import pandas as pd\n",
    "!pip install bokeh\n",
    "from bokeh.plotting import figure, show, output_file\n",
    "from bokeh.models import ColumnDataSource, HoverTool\n",
    "from bokeh.palettes import Category20  # A palette with more colors\n",
    "from itertools import cycle\n",
    "\n",
    "# Read the CSV file\n",
    "data = pd.read_csv('ucsbcovid.csv')  # Ensure the file path is correct\n",
    "\n",
    "# Ensure unique days can be properly plotted and colored\n",
    "unique_days = data['Day'].unique()\n",
    "color_cycle = cycle(Category20[20])  # Using a cycle to repeat colors if more days than colors\n",
    "colors = {day: next(color_cycle) for day in unique_days}\n",
    "data['color'] = [colors[day] for day in data['Day']]\n",
    "\n",
    "# Create a ColumnDataSource from the DataFrame\n",
    "source = ColumnDataSource(data)\n",
    "\n",
    "# Create a new plot with a title and axis labels\n",
    "p = figure(title=\"COVID-19 Test Counts Over Time\", x_axis_label='Day', y_axis_label='Number of Tests', sizing_mode=\"stretch_width\", height=400, x_range=unique_days)\n",
    "\n",
    "# Add a bar renderer with legend and label configuration\n",
    "p.vbar(x='Day', top='Tests', source=source, width=0.9, color='color')\n",
    "\n",
    "# Add a hover tool to display the number of tests\n",
    "hover = HoverTool()\n",
    "hover.tooltips = [(\"Day\", \"@Day\"), (\"Tests\", \"@Tests\")]\n",
    "p.add_tools(hover)\n",
    "\n",
    "# Rotate the x-axis labels so they don't overlap\n",
    "p.xaxis.major_label_orientation = \"vertical\"\n",
    "\n",
    "# Set all fonts to Arial\n",
    "p.title.text_font = \"arial\"\n",
    "p.xaxis.axis_label_text_font_style = \"normal\"\n",
    "p.xaxis.axis_label_text_font = \"arial\"\n",
    "p.yaxis.axis_label_text_font_style = \"normal\"\n",
    "p.yaxis.axis_label_text_font = \"arial\"\n",
    "p.xaxis.major_label_text_font_size = \"12pt\"\n",
    "p.xaxis.major_label_text_font = \"arial\"\n",
    "p.yaxis.major_label_text_font_size = \"12pt\"\n",
    "p.yaxis.major_label_text_font = \"arial\"\n",
    "\n",
    "# Output to static HTML file (uncomment the next line if you want to save the plot as a file)\n",
    "# output_file(\"covid_tests_over_time.html\")\n",
    "\n",
    "# Show the results\n",
    "show(p)\n"
   ]
  }
 ],
 "metadata": {
  "kernelspec": {
   "display_name": "base",
   "language": "python",
   "name": "python3"
  },
  "language_info": {
   "codemirror_mode": {
    "name": "ipython",
    "version": 3
   },
   "file_extension": ".py",
   "mimetype": "text/x-python",
   "name": "python",
   "nbconvert_exporter": "python",
   "pygments_lexer": "ipython3",
   "version": "3.9.13"
  }
 },
 "nbformat": 4,
 "nbformat_minor": 2
}
